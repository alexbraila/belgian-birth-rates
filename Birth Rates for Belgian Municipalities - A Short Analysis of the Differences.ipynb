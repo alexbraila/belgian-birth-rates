{
  "cells": [
    {
      "metadata": {},
      "cell_type": "markdown",
      "source": "## Read in the data"
    },
    {
      "metadata": {
        "trusted": true
      },
      "cell_type": "code",
      "source": "%matplotlib inline\n\nimport numpy as np\nimport pandas as pd\nimport matplotlib.pyplot as plt\n#import folium",
      "execution_count": 1,
      "outputs": []
    },
    {
      "metadata": {
        "trusted": true
      },
      "cell_type": "code",
      "source": "# Define the sheets to read. We cannot use all years, as there is no birth data for the recent ones\nsheets = ['Population de droit en ' + s for s in ['2011', '2012', '2013', '2014']] + ['population de droit en 2015']",
      "execution_count": 2,
      "outputs": []
    },
    {
      "metadata": {
        "trusted": true
      },
      "cell_type": "code",
      "source": "pop_data_temp = pd.read_excel('./data/Population_de_droit_au_1_janvier,_par_commune,_par_sexe_2011_2017.xls', sheet_name = sheets,\n                              skiprows = 1, usecols = 'A, B, E', dtype = {' code INS': str})",
      "execution_count": 3,
      "outputs": []
    },
    {
      "metadata": {
        "trusted": true
      },
      "cell_type": "code",
      "source": "pop_data_temp.keys()",
      "execution_count": 4,
      "outputs": [
        {
          "output_type": "execute_result",
          "execution_count": 4,
          "data": {
            "text/plain": "odict_keys(['Population de droit en 2011', 'Population de droit en 2012', 'Population de droit en 2013', 'Population de droit en 2014', 'population de droit en 2015'])"
          },
          "metadata": {}
        }
      ]
    },
    {
      "metadata": {},
      "cell_type": "markdown",
      "source": "Convert the separate data frames into a single one"
    },
    {
      "metadata": {
        "trusted": true
      },
      "cell_type": "code",
      "source": "# Create a base data frame with the entity IDs and names\npop_data = pd.DataFrame(data = pop_data_temp['Population de droit en 2011'].dropna()[[' code INS', 'Lieu De Residence']])\npop_data.rename(columns = {' code INS': 'REFNIS'}, inplace = True)",
      "execution_count": 5,
      "outputs": []
    },
    {
      "metadata": {
        "trusted": true
      },
      "cell_type": "code",
      "source": "# Merge each data frame into the base one\nfor key, value in pop_data_temp.items():\n    value.rename(columns = {' code INS': 'REFNIS', 'Total': key[-4:]}, inplace = True)\n    pop_data = pop_data.merge(value[['REFNIS', key[-4:]]], on = 'REFNIS', copy = False)",
      "execution_count": 6,
      "outputs": []
    },
    {
      "metadata": {
        "trusted": true
      },
      "cell_type": "code",
      "source": "pop_data.head()",
      "execution_count": 7,
      "outputs": [
        {
          "output_type": "execute_result",
          "execution_count": 7,
          "data": {
            "text/html": "<div>\n<style scoped>\n    .dataframe tbody tr th:only-of-type {\n        vertical-align: middle;\n    }\n\n    .dataframe tbody tr th {\n        vertical-align: top;\n    }\n\n    .dataframe thead th {\n        text-align: right;\n    }\n</style>\n<table border=\"1\" class=\"dataframe\">\n  <thead>\n    <tr style=\"text-align: right;\">\n      <th></th>\n      <th>REFNIS</th>\n      <th>Lieu De Residence</th>\n      <th>2011</th>\n      <th>2012</th>\n      <th>2013</th>\n      <th>2014</th>\n      <th>2015</th>\n    </tr>\n  </thead>\n  <tbody>\n    <tr>\n      <th>0</th>\n      <td>1000</td>\n      <td>Belgique</td>\n      <td>10951266.0</td>\n      <td>11035948.0</td>\n      <td>11099554.0</td>\n      <td>11150516.0</td>\n      <td>11209044.0</td>\n    </tr>\n    <tr>\n      <th>1</th>\n      <td>4000</td>\n      <td>Région de Bruxelles-Capitale</td>\n      <td>1119088.0</td>\n      <td>1138854.0</td>\n      <td>1154635.0</td>\n      <td>1163486.0</td>\n      <td>1175173.0</td>\n    </tr>\n    <tr>\n      <th>2</th>\n      <td>21000</td>\n      <td>Arrondissement de Bruxelles-Capitale</td>\n      <td>1119088.0</td>\n      <td>1138854.0</td>\n      <td>1154635.0</td>\n      <td>1163486.0</td>\n      <td>1175173.0</td>\n    </tr>\n    <tr>\n      <th>3</th>\n      <td>21001</td>\n      <td>Anderlecht</td>\n      <td>107912.0</td>\n      <td>111279.0</td>\n      <td>113462.0</td>\n      <td>115178.0</td>\n      <td>116332.0</td>\n    </tr>\n    <tr>\n      <th>4</th>\n      <td>21002</td>\n      <td>Auderghem</td>\n      <td>31408.0</td>\n      <td>31963.0</td>\n      <td>32350.0</td>\n      <td>32560.0</td>\n      <td>32835.0</td>\n    </tr>\n  </tbody>\n</table>\n</div>",
            "text/plain": "  REFNIS                     Lieu De Residence        2011        2012  \\\n0   1000                              Belgique  10951266.0  11035948.0   \n1   4000          Région de Bruxelles-Capitale   1119088.0   1138854.0   \n2  21000  Arrondissement de Bruxelles-Capitale   1119088.0   1138854.0   \n3  21001                            Anderlecht    107912.0    111279.0   \n4  21002                             Auderghem     31408.0     31963.0   \n\n         2013        2014        2015  \n0  11099554.0  11150516.0  11209044.0  \n1   1154635.0   1163486.0   1175173.0  \n2   1154635.0   1163486.0   1175173.0  \n3    113462.0    115178.0    116332.0  \n4     32350.0     32560.0     32835.0  "
          },
          "metadata": {}
        }
      ]
    },
    {
      "metadata": {},
      "cell_type": "markdown",
      "source": "Besides municipalities, there is data for districts, provinces, regions and the whole Belgium. This will go away when merging the municipality shn codes<br>\nTake the average across all years, as the information for a single year can be misleading, especially for small municipalities. Certainly not a statistically accurate method, but it will provide a decent estimate"
    },
    {
      "metadata": {
        "trusted": true
      },
      "cell_type": "code",
      "source": "# Create a new column for the average population\npop_data['Total_Population'] = 0\n# Create the list of columns to average\ncols_to_add = [col for col in pop_data.columns if col.isnumeric()]\n# Sum up the yearly data\nfor col in cols_to_add:\n    pop_data.Total_Population += pop_data[col]\n# Divide by the number of columns\npop_data.Total_Population /= len(cols_to_add)\n# Drop the yearly data, as it is no longer needed\nfor col in cols_to_add:\n    pop_data.drop(col, axis = 1, inplace = True)\n# Round the average data\npop_data.Total_Population = pop_data.Total_Population.astype(np.int64)",
      "execution_count": 8,
      "outputs": []
    },
    {
      "metadata": {},
      "cell_type": "markdown",
      "source": "Read the birth information, which is in separate files for each year"
    },
    {
      "metadata": {
        "trusted": true
      },
      "cell_type": "code",
      "source": "file_names = ['BE_Naissances et fécondité_2011_FR_v3.xls', 'BE_Naissances et fécondité_2012_FR_v2.xls', \n              'BE_Naissances et fécondité_2013_FR_v2.xls', 'BE_Naissances et fécondité_2014_FR_v2.xls',\n              'BE_Naissances et fécondité_2015prov_FR.xls']",
      "execution_count": 9,
      "outputs": []
    },
    {
      "metadata": {
        "trusted": true
      },
      "cell_type": "code",
      "source": "# Read each file and merge it into the population data frame\nfor index, value in enumerate(file_names):\n    birth_data = pd.read_excel('./data/' + value, sheet_name = 'Tab 2_201' + str(index + 1), skiprows = 1, usecols = 'A, F',\n                               skipfooter = 2, dtype = {'REFNIS': str})\n    birth_data.rename(columns = {'Total': str(index + 2011)}, inplace = True)\n    pop_data = pop_data.merge(birth_data, on = 'REFNIS', copy = False)",
      "execution_count": 11,
      "outputs": []
    },
    {
      "metadata": {},
      "cell_type": "markdown",
      "source": "Take one more time the average across all years"
    },
    {
      "metadata": {
        "trusted": true
      },
      "cell_type": "code",
      "source": "# Create a new column for the average number of births\npop_data['Total_Births'] = 0\n# Create the list of columns to average\ncols_to_add = [col for col in pop_data.columns if col.isnumeric()]\n# Sum up the yearly data\nfor col in cols_to_add:\n    pop_data.Total_Births += pop_data[col]\n# Divide by the number of columns\npop_data.Total_Births /= len(cols_to_add)\n# Drop the yearly data, as it is no longer needed\nfor col in cols_to_add:\n    pop_data.drop(col, axis = 1, inplace = True)\n# Round the average data\npop_data.Total_Births = pop_data.Total_Births.astype(np.int64)",
      "execution_count": 12,
      "outputs": []
    },
    {
      "metadata": {},
      "cell_type": "markdown",
      "source": "Read the municipality shn codes. These are needed in order to map the municipalities to the geospatial information"
    },
    {
      "metadata": {
        "trusted": true
      },
      "cell_type": "code",
      "source": "# Read the municipality shn codes only\nstruct_be = pd.read_excel('./data/structure_be.xls', sheet_name = \"unitlanguage\", usecols = 'A', nrows = 589)",
      "execution_count": 14,
      "outputs": []
    },
    {
      "metadata": {
        "trusted": true
      },
      "cell_type": "code",
      "source": "# Create the REFNIS column used for merging the population data\nstruct_be['REFNIS'] = struct_be.UT_ID.str.slice(start = 3)",
      "execution_count": 15,
      "outputs": []
    },
    {
      "metadata": {
        "trusted": true
      },
      "cell_type": "code",
      "source": "# The territorial unit id is the same as the shn code in the geospatial data\nstruct_be.rename(columns = {'UT_ID': 'Shn'}, inplace = True)",
      "execution_count": 16,
      "outputs": []
    },
    {
      "metadata": {
        "trusted": true
      },
      "cell_type": "code",
      "source": "pop_data = pop_data.merge(struct_be, on = 'REFNIS', copy = False)",
      "execution_count": 17,
      "outputs": []
    },
    {
      "metadata": {},
      "cell_type": "markdown",
      "source": "## Exploratory Data Analysis"
    },
    {
      "metadata": {
        "trusted": true
      },
      "cell_type": "code",
      "source": "# Confirm that we have data for the 589 Belgian municipalities\npop_data.shape",
      "execution_count": 18,
      "outputs": [
        {
          "output_type": "execute_result",
          "execution_count": 18,
          "data": {
            "text/plain": "(589, 5)"
          },
          "metadata": {}
        }
      ]
    },
    {
      "metadata": {
        "trusted": true
      },
      "cell_type": "code",
      "source": "pop_data.head()",
      "execution_count": 19,
      "outputs": [
        {
          "output_type": "execute_result",
          "execution_count": 19,
          "data": {
            "text/html": "<div>\n<style scoped>\n    .dataframe tbody tr th:only-of-type {\n        vertical-align: middle;\n    }\n\n    .dataframe tbody tr th {\n        vertical-align: top;\n    }\n\n    .dataframe thead th {\n        text-align: right;\n    }\n</style>\n<table border=\"1\" class=\"dataframe\">\n  <thead>\n    <tr style=\"text-align: right;\">\n      <th></th>\n      <th>REFNIS</th>\n      <th>Lieu De Residence</th>\n      <th>Total_Population</th>\n      <th>Total_Births</th>\n      <th>Shn</th>\n    </tr>\n  </thead>\n  <tbody>\n    <tr>\n      <th>0</th>\n      <td>21001</td>\n      <td>Anderlecht</td>\n      <td>112832</td>\n      <td>1997</td>\n      <td>BE421001</td>\n    </tr>\n    <tr>\n      <th>1</th>\n      <td>21002</td>\n      <td>Auderghem</td>\n      <td>32223</td>\n      <td>403</td>\n      <td>BE421002</td>\n    </tr>\n    <tr>\n      <th>2</th>\n      <td>21003</td>\n      <td>Berchem-Sainte-Agathe</td>\n      <td>23345</td>\n      <td>355</td>\n      <td>BE421003</td>\n    </tr>\n    <tr>\n      <th>3</th>\n      <td>21004</td>\n      <td>Bruxelles</td>\n      <td>168844</td>\n      <td>2847</td>\n      <td>BE421004</td>\n    </tr>\n    <tr>\n      <th>4</th>\n      <td>21005</td>\n      <td>Etterbeek</td>\n      <td>46037</td>\n      <td>711</td>\n      <td>BE421005</td>\n    </tr>\n  </tbody>\n</table>\n</div>",
            "text/plain": "  REFNIS      Lieu De Residence  Total_Population  Total_Births       Shn\n0  21001             Anderlecht            112832          1997  BE421001\n1  21002              Auderghem             32223           403  BE421002\n2  21003  Berchem-Sainte-Agathe             23345           355  BE421003\n3  21004              Bruxelles            168844          2847  BE421004\n4  21005              Etterbeek             46037           711  BE421005"
          },
          "metadata": {}
        }
      ]
    },
    {
      "metadata": {
        "trusted": true
      },
      "cell_type": "code",
      "source": "# Confirm that we have no missing values\npop_data.isnull().sum()",
      "execution_count": 20,
      "outputs": [
        {
          "output_type": "execute_result",
          "execution_count": 20,
          "data": {
            "text/plain": "REFNIS               0\nLieu De Residence    0\nTotal_Population     0\nTotal_Births         0\nShn                  0\ndtype: int64"
          },
          "metadata": {}
        }
      ]
    },
    {
      "metadata": {
        "trusted": true
      },
      "cell_type": "code",
      "source": "pop_data.hist(column = ['Total_Population', 'Total_Births'], bins = 30, figsize = (14, 4), xrot = 30);",
      "execution_count": 21,
      "outputs": [
        {
          "output_type": "display_data",
          "data": {
            "image/png": "[encoded data removed]",
            "text/plain": "<Figure size 1008x288 with 2 Axes>"
          },
          "metadata": {
            "needs_background": "light"
          }
        }
      ]
    },
    {
      "metadata": {},
      "cell_type": "markdown",
      "source": "The data is highly skewed, which is to be expected for population data"
    },
    {
      "metadata": {
        "trusted": true
      },
      "cell_type": "code",
      "source": "pop_data_temp = pop_data.copy()\npop_data_temp.Total_Population = np.log(pop_data_temp.Total_Population)\npop_data_temp.Total_Births = np.log(pop_data_temp.Total_Births)\npop_data_temp.hist(column = ['Total_Population', 'Total_Births'], bins = 30, figsize = (14, 4), xrot = 30);",
      "execution_count": 22,
      "outputs": [
        {
          "output_type": "display_data",
          "data": {
            "image/png": "[encoded data removed]",
            "text/plain": "<Figure size 1008x288 with 2 Axes>"
          },
          "metadata": {
            "needs_background": "light"
          }
        }
      ]
    },
    {
      "metadata": {},
      "cell_type": "markdown",
      "source": "Taking the log normalises the data, which is to be expected for skewed data"
    },
    {
      "metadata": {},
      "cell_type": "markdown",
      "source": "## Looking for Answers"
    },
    {
      "metadata": {
        "trusted": true
      },
      "cell_type": "code",
      "source": "np.corrcoef(pop_data.Total_Population, pop_data.Total_Births)[0, 1]",
      "execution_count": 23,
      "outputs": [
        {
          "output_type": "execute_result",
          "execution_count": 23,
          "data": {
            "text/plain": "0.9831920433776759"
          },
          "metadata": {}
        }
      ]
    },
    {
      "metadata": {},
      "cell_type": "markdown",
      "source": "There is near perfect correlation between the population and the number of births"
    },
    {
      "metadata": {
        "trusted": true
      },
      "cell_type": "code",
      "source": "pop_data.plot.scatter(x = 'Total_Population', y = 'Total_Births', figsize = (6, 4));",
      "execution_count": 24,
      "outputs": [
        {
          "output_type": "display_data",
          "data": {
            "image/png": "[encoded data removed]",
            "text/plain": "<Figure size 432x288 with 1 Axes>"
          },
          "metadata": {
            "needs_background": "light"
          }
        }
      ]
    },
    {
      "metadata": {},
      "cell_type": "markdown",
      "source": "However, there are some municipalities for whom the total births is double that of other municipalities with comparable population size (for instance at about 120k, there are some municipalities with 1000 total births and others with 2000 total births)<br>\nLet us compute the birth rate per 1000 inhabitants"
    },
    {
      "metadata": {
        "trusted": true
      },
      "cell_type": "code",
      "source": "pop_data['Birth_Rate'] = pop_data.Total_Births / pop_data.Total_Population * 1000",
      "execution_count": 26,
      "outputs": []
    },
    {
      "metadata": {
        "trusted": true
      },
      "cell_type": "code",
      "source": "pop_data['Birth_Rate'].describe()",
      "execution_count": 27,
      "outputs": [
        {
          "output_type": "execute_result",
          "execution_count": 27,
          "data": {
            "text/plain": "count    589.000000\nmean      10.334065\nstd        1.794336\nmin        4.963227\n25%        9.303142\n50%       10.137547\n75%       11.071849\nmax       19.715108\nName: Birth_Rate, dtype: float64"
          },
          "metadata": {}
        }
      ]
    },
    {
      "metadata": {},
      "cell_type": "markdown",
      "source": "The ratio between the minimum and maximum birth rate is 4, which is quite high"
    },
    {
      "metadata": {
        "trusted": true
      },
      "cell_type": "code",
      "source": "pop_data.sort_values(by = 'Birth_Rate', inplace = True)\npop_data.head(10)",
      "execution_count": 28,
      "outputs": [
        {
          "output_type": "execute_result",
          "execution_count": 28,
          "data": {
            "text/html": "<div>\n<style scoped>\n    .dataframe tbody tr th:only-of-type {\n        vertical-align: middle;\n    }\n\n    .dataframe tbody tr th {\n        vertical-align: top;\n    }\n\n    .dataframe thead th {\n        text-align: right;\n    }\n</style>\n<table border=\"1\" class=\"dataframe\">\n  <thead>\n    <tr style=\"text-align: right;\">\n      <th></th>\n      <th>REFNIS</th>\n      <th>Lieu De Residence</th>\n      <th>Total_Population</th>\n      <th>Total_Births</th>\n      <th>Shn</th>\n      <th>Birth_Rate</th>\n    </tr>\n  </thead>\n  <tbody>\n    <tr>\n      <th>215</th>\n      <td>38014</td>\n      <td>Koksijde</td>\n      <td>22163</td>\n      <td>110</td>\n      <td>BE238014</td>\n      <td>4.963227</td>\n    </tr>\n    <tr>\n      <th>163</th>\n      <td>31043</td>\n      <td>Knokke-Heist</td>\n      <td>33750</td>\n      <td>173</td>\n      <td>BE231043</td>\n      <td>5.125926</td>\n    </tr>\n    <tr>\n      <th>195</th>\n      <td>35029</td>\n      <td>De Haan</td>\n      <td>12543</td>\n      <td>71</td>\n      <td>BE235029</td>\n      <td>5.660528</td>\n    </tr>\n    <tr>\n      <th>216</th>\n      <td>38016</td>\n      <td>Nieuport</td>\n      <td>11418</td>\n      <td>68</td>\n      <td>BE238016</td>\n      <td>5.955509</td>\n    </tr>\n    <tr>\n      <th>272</th>\n      <td>45062</td>\n      <td>Horebeke</td>\n      <td>2060</td>\n      <td>13</td>\n      <td>BE245062</td>\n      <td>6.310680</td>\n    </tr>\n    <tr>\n      <th>39</th>\n      <td>11039</td>\n      <td>Schilde</td>\n      <td>19396</td>\n      <td>123</td>\n      <td>BE211039</td>\n      <td>6.341514</td>\n    </tr>\n    <tr>\n      <th>192</th>\n      <td>35011</td>\n      <td>Middelkerke</td>\n      <td>19101</td>\n      <td>125</td>\n      <td>BE235011</td>\n      <td>6.544160</td>\n    </tr>\n    <tr>\n      <th>348</th>\n      <td>25119</td>\n      <td>Lasne</td>\n      <td>14142</td>\n      <td>97</td>\n      <td>BE325119</td>\n      <td>6.859002</td>\n    </tr>\n    <tr>\n      <th>138</th>\n      <td>24048</td>\n      <td>Keerbergen</td>\n      <td>12819</td>\n      <td>88</td>\n      <td>BE224048</td>\n      <td>6.864810</td>\n    </tr>\n    <tr>\n      <th>162</th>\n      <td>31042</td>\n      <td>Zuienkerke</td>\n      <td>2747</td>\n      <td>19</td>\n      <td>BE231042</td>\n      <td>6.916636</td>\n    </tr>\n  </tbody>\n</table>\n</div>",
            "text/plain": "    REFNIS Lieu De Residence  Total_Population  Total_Births       Shn  \\\n215  38014          Koksijde             22163           110  BE238014   \n163  31043      Knokke-Heist             33750           173  BE231043   \n195  35029           De Haan             12543            71  BE235029   \n216  38016          Nieuport             11418            68  BE238016   \n272  45062          Horebeke              2060            13  BE245062   \n39   11039           Schilde             19396           123  BE211039   \n192  35011       Middelkerke             19101           125  BE235011   \n348  25119             Lasne             14142            97  BE325119   \n138  24048        Keerbergen             12819            88  BE224048   \n162  31042        Zuienkerke              2747            19  BE231042   \n\n     Birth_Rate  \n215    4.963227  \n163    5.125926  \n195    5.660528  \n216    5.955509  \n272    6.310680  \n39     6.341514  \n192    6.544160  \n348    6.859002  \n138    6.864810  \n162    6.916636  "
          },
          "metadata": {}
        }
      ]
    },
    {
      "metadata": {
        "trusted": true
      },
      "cell_type": "code",
      "source": "pop_data.tail(10)",
      "execution_count": 29,
      "outputs": [
        {
          "output_type": "execute_result",
          "execution_count": 29,
          "data": {
            "text/html": "<div>\n<style scoped>\n    .dataframe tbody tr th:only-of-type {\n        vertical-align: middle;\n    }\n\n    .dataframe tbody tr th {\n        vertical-align: top;\n    }\n\n    .dataframe thead th {\n        text-align: right;\n    }\n</style>\n<table border=\"1\" class=\"dataframe\">\n  <thead>\n    <tr style=\"text-align: right;\">\n      <th></th>\n      <th>REFNIS</th>\n      <th>Lieu De Residence</th>\n      <th>Total_Population</th>\n      <th>Total_Births</th>\n      <th>Shn</th>\n      <th>Birth_Rate</th>\n    </tr>\n  </thead>\n  <tbody>\n    <tr>\n      <th>533</th>\n      <td>84033</td>\n      <td>Léglise</td>\n      <td>4917</td>\n      <td>78</td>\n      <td>BE384033</td>\n      <td>15.863331</td>\n    </tr>\n    <tr>\n      <th>12</th>\n      <td>21013</td>\n      <td>Saint-Gilles</td>\n      <td>49848</td>\n      <td>811</td>\n      <td>BE421013</td>\n      <td>16.269459</td>\n    </tr>\n    <tr>\n      <th>9</th>\n      <td>21010</td>\n      <td>Jette</td>\n      <td>49424</td>\n      <td>832</td>\n      <td>BE421010</td>\n      <td>16.833927</td>\n    </tr>\n    <tr>\n      <th>3</th>\n      <td>21004</td>\n      <td>Bruxelles</td>\n      <td>168844</td>\n      <td>2847</td>\n      <td>BE421004</td>\n      <td>16.861719</td>\n    </tr>\n    <tr>\n      <th>6</th>\n      <td>21007</td>\n      <td>Forest (Bruxelles-Capitale)</td>\n      <td>53742</td>\n      <td>910</td>\n      <td>BE421007</td>\n      <td>16.932753</td>\n    </tr>\n    <tr>\n      <th>0</th>\n      <td>21001</td>\n      <td>Anderlecht</td>\n      <td>112832</td>\n      <td>1997</td>\n      <td>BE421001</td>\n      <td>17.698880</td>\n    </tr>\n    <tr>\n      <th>13</th>\n      <td>21014</td>\n      <td>Saint-Josse-ten-Noode</td>\n      <td>27295</td>\n      <td>490</td>\n      <td>BE421014</td>\n      <td>17.952006</td>\n    </tr>\n    <tr>\n      <th>14</th>\n      <td>21015</td>\n      <td>Schaerbeek</td>\n      <td>129324</td>\n      <td>2462</td>\n      <td>BE421015</td>\n      <td>19.037456</td>\n    </tr>\n    <tr>\n      <th>10</th>\n      <td>21011</td>\n      <td>Koekelberg</td>\n      <td>20957</td>\n      <td>409</td>\n      <td>BE421011</td>\n      <td>19.516152</td>\n    </tr>\n    <tr>\n      <th>11</th>\n      <td>21012</td>\n      <td>Molenbeek-Saint-Jean</td>\n      <td>94141</td>\n      <td>1856</td>\n      <td>BE421012</td>\n      <td>19.715108</td>\n    </tr>\n  </tbody>\n</table>\n</div>",
            "text/plain": "    REFNIS            Lieu De Residence  Total_Population  Total_Births  \\\n533  84033                      Léglise              4917            78   \n12   21013                 Saint-Gilles             49848           811   \n9    21010                        Jette             49424           832   \n3    21004                    Bruxelles            168844          2847   \n6    21007  Forest (Bruxelles-Capitale)             53742           910   \n0    21001                   Anderlecht            112832          1997   \n13   21014        Saint-Josse-ten-Noode             27295           490   \n14   21015                   Schaerbeek            129324          2462   \n10   21011                   Koekelberg             20957           409   \n11   21012         Molenbeek-Saint-Jean             94141          1856   \n\n          Shn  Birth_Rate  \n533  BE384033   15.863331  \n12   BE421013   16.269459  \n9    BE421010   16.833927  \n3    BE421004   16.861719  \n6    BE421007   16.932753  \n0    BE421001   17.698880  \n13   BE421014   17.952006  \n14   BE421015   19.037456  \n10   BE421011   19.516152  \n11   BE421012   19.715108  "
          },
          "metadata": {}
        }
      ]
    },
    {
      "metadata": {},
      "cell_type": "markdown",
      "source": "Most of the low birth rate municipalities are in the Flemish region, while most of the high birth rate municipalities are in the Brussels region<br>\nA visual representation of the birth rates can certainly help"
    },
    {
      "metadata": {
        "trusted": true
      },
      "cell_type": "code",
      "source": "# Create an empty map centred on Belgium\nm = folium.Map(location = [50.5039, 4.4699], zoom_start = 8)\n\n# Apply a GeoJSON overlay with the birth rate\nm.choropleth(\n    geo_data = './geojson/communes.geojson',\n    data = pop_data,\n    columns = ['Shn', 'Birth_Rate'],\n    key_on = 'feature.properties.shn',\n    fill_color = 'YlOrRd',\n    fill_opacity = 0.7,\n    line_opacity = 0.2,\n    legend_name = 'Birth Rate',\n    #threshold_scale = [3.9, 7, 14, 35],\n    highlight = True\n)\n# Display the map\nm",
      "execution_count": 27,
      "outputs": [
        {
          "output_type": "error",
          "ename": "NameError",
          "evalue": "name 'folium' is not defined",
          "traceback": [
            "\u001b[0;31m---------------------------------------------------------------------------\u001b[0m",
            "\u001b[0;31mNameError\u001b[0m                                 Traceback (most recent call last)",
            "\u001b[0;32m<ipython-input-27-a06c8f3c7a7e>\u001b[0m in \u001b[0;36m<module>\u001b[0;34m\u001b[0m\n\u001b[1;32m      1\u001b[0m \u001b[0;31m# Create an empty map centred on Belgium\u001b[0m\u001b[0;34m\u001b[0m\u001b[0;34m\u001b[0m\u001b[0m\n\u001b[0;32m----> 2\u001b[0;31m \u001b[0mm\u001b[0m \u001b[0;34m=\u001b[0m \u001b[0mfolium\u001b[0m\u001b[0;34m.\u001b[0m\u001b[0mMap\u001b[0m\u001b[0;34m(\u001b[0m\u001b[0mlocation\u001b[0m \u001b[0;34m=\u001b[0m \u001b[0;34m[\u001b[0m\u001b[0;36m50.5039\u001b[0m\u001b[0;34m,\u001b[0m \u001b[0;36m4.4699\u001b[0m\u001b[0;34m]\u001b[0m\u001b[0;34m,\u001b[0m \u001b[0mzoom_start\u001b[0m \u001b[0;34m=\u001b[0m \u001b[0;36m8\u001b[0m\u001b[0;34m)\u001b[0m\u001b[0;34m\u001b[0m\u001b[0m\n\u001b[0m\u001b[1;32m      3\u001b[0m \u001b[0;34m\u001b[0m\u001b[0m\n\u001b[1;32m      4\u001b[0m \u001b[0;31m# Apply a GeoJSON overlay with the birth rate\u001b[0m\u001b[0;34m\u001b[0m\u001b[0;34m\u001b[0m\u001b[0m\n\u001b[1;32m      5\u001b[0m m.choropleth(\n",
            "\u001b[0;31mNameError\u001b[0m: name 'folium' is not defined"
          ]
        }
      ]
    },
    {
      "metadata": {},
      "cell_type": "markdown",
      "source": "The map confirms the previous low/high birth rate findings. There are also some low birth rate municipalities in the southern part of the Wallon region<br>\nWhat could explain these differences ?<br>\nOne possible answer might lie in the percentage of women of reproductive age, generally considered to be 15 to 49. If this percentage is significantly lower in the municipalities with low birth rate (due to population aging or young people leaving those municipalities)), this might explain, at least partially, the birth rate differences"
    },
    {
      "metadata": {
        "trusted": true
      },
      "cell_type": "code",
      "source": "# Define the file names to read\nfile_names = ['TF_SOC_POP_STRUCT_' + s + '.xlsx' for s in ['2011', '2012', '2013', '2014', '2015']]",
      "execution_count": 30,
      "outputs": []
    },
    {
      "metadata": {
        "trusted": true
      },
      "cell_type": "code",
      "source": "# Read the files with the population structure by municipality, sex and age\nfor index, value in enumerate(file_names):\n    pop_struct = pd.read_excel('./data/' + value, usecols = 'A, M, T, U',\n                               #dtype = {'CD_MUNTY_REFNIS': str, 'CD_CIV_STS': np.int8, 'CD_AGE': np.int8, 'MS_POPULATION': np.int16})\n                               dtype = {'CD_MUNTY_REFNIS': str})\n    # Select only the women of reproductive age\n    pop_struct_temp = pop_struct[(pop_struct.CD_SEX == 'F') & (pop_struct.CD_AGE.between(15, 49))]\n    #pop_struct_temp = pop_struct_temp[['CD_MUNTY_REFNIS', 'MS_POPULATION']].groupby('CD_MUNTY_REFNIS').agg({'MS_POPULATION': np.sum}).reset_index()\n    # Sum up the data per municipality and merge it into the main data frame\n    pop_struct_temp = pop_struct_temp[['CD_MUNTY_REFNIS', 'MS_POPULATION']].groupby('CD_MUNTY_REFNIS').agg('sum').reset_index()\n    pop_struct_temp.rename(columns = {'CD_MUNTY_REFNIS': 'REFNIS', 'MS_POPULATION': 'Total_Women_15_49_' + str(2011 + index)},\n                           inplace = True)\n    #pop_struct_temp['Total_Women_15_49_' + str(2011 + index)] = pop_struct_temp['Total_Women_15_49_' + str(2011 + index)].astype(np.int32)\n    pop_data = pop_data.merge(pop_struct_temp, on = 'REFNIS', copy = False)\n    \n    #pop_struct_temp = pop_struct[(pop_struct.CD_SEX == 'F') & (pop_struct.CD_CIV_STS == 20) & (pop_struct.CD_AGE.between(15, 49))]\n    #pop_struct_temp = pop_struct_temp[['CD_MUNTY_REFNIS', 'MS_POPULATION']].groupby('CD_MUNTY_REFNIS').agg('sum').reset_index()\n    #pop_struct_temp.rename(columns = {'CD_MUNTY_REFNIS': 'REFNIS', 'MS_POPULATION': 'Total_Married_Women_15_49_' + str(2011 + index)},\n    #                       inplace = True)\n    #pop_struct_temp['Total_Married_Women_15_49_' + str(2011 + index)] = pop_struct_temp['Total_Married_Women_15_49_' + str(2011 + index)].astype(np.int32)\n    #pop_data = pop_data.merge(pop_struct_temp, on = 'REFNIS', copy = False)",
      "execution_count": 30,
      "outputs": [
        {
          "output_type": "error",
          "ename": "FileNotFoundError",
          "evalue": "[Errno 2] No such file or directory: 'TF_SOC_POP_STRUCT_2011.xlsx'",
          "traceback": [
            "\u001b[0;31m---------------------------------------------------------------------------\u001b[0m",
            "\u001b[0;31mFileNotFoundError\u001b[0m                         Traceback (most recent call last)",
            "\u001b[0;32m<ipython-input-30-863bef6431aa>\u001b[0m in \u001b[0;36m<module>\u001b[0;34m\u001b[0m\n\u001b[1;32m      3\u001b[0m     pop_struct = pd.read_excel(value, usecols = 'A, M, T, U',\n\u001b[1;32m      4\u001b[0m                                \u001b[0;31m#dtype = {'CD_MUNTY_REFNIS': str, 'CD_CIV_STS': np.int8, 'CD_AGE': np.int8, 'MS_POPULATION': np.int16})\u001b[0m\u001b[0;34m\u001b[0m\u001b[0;34m\u001b[0m\u001b[0m\n\u001b[0;32m----> 5\u001b[0;31m                                dtype = {'CD_MUNTY_REFNIS': str})\n\u001b[0m\u001b[1;32m      6\u001b[0m     \u001b[0;31m# Select only the women of reproductive age\u001b[0m\u001b[0;34m\u001b[0m\u001b[0;34m\u001b[0m\u001b[0m\n\u001b[1;32m      7\u001b[0m     \u001b[0mpop_struct_temp\u001b[0m \u001b[0;34m=\u001b[0m \u001b[0mpop_struct\u001b[0m\u001b[0;34m[\u001b[0m\u001b[0;34m(\u001b[0m\u001b[0mpop_struct\u001b[0m\u001b[0;34m.\u001b[0m\u001b[0mCD_SEX\u001b[0m \u001b[0;34m==\u001b[0m \u001b[0;34m'F'\u001b[0m\u001b[0;34m)\u001b[0m \u001b[0;34m&\u001b[0m \u001b[0;34m(\u001b[0m\u001b[0mpop_struct\u001b[0m\u001b[0;34m.\u001b[0m\u001b[0mCD_AGE\u001b[0m\u001b[0;34m.\u001b[0m\u001b[0mbetween\u001b[0m\u001b[0;34m(\u001b[0m\u001b[0;36m15\u001b[0m\u001b[0;34m,\u001b[0m \u001b[0;36m49\u001b[0m\u001b[0;34m)\u001b[0m\u001b[0;34m)\u001b[0m\u001b[0;34m]\u001b[0m\u001b[0;34m\u001b[0m\u001b[0m\n",
            "\u001b[0;32m~/anaconda3_501/lib/python3.6/site-packages/pandas/util/_decorators.py\u001b[0m in \u001b[0;36mwrapper\u001b[0;34m(*args, **kwargs)\u001b[0m\n\u001b[1;32m    116\u001b[0m                 \u001b[0;32melse\u001b[0m\u001b[0;34m:\u001b[0m\u001b[0;34m\u001b[0m\u001b[0m\n\u001b[1;32m    117\u001b[0m                     \u001b[0mkwargs\u001b[0m\u001b[0;34m[\u001b[0m\u001b[0mnew_arg_name\u001b[0m\u001b[0;34m]\u001b[0m \u001b[0;34m=\u001b[0m \u001b[0mnew_arg_value\u001b[0m\u001b[0;34m\u001b[0m\u001b[0m\n\u001b[0;32m--> 118\u001b[0;31m             \u001b[0;32mreturn\u001b[0m \u001b[0mfunc\u001b[0m\u001b[0;34m(\u001b[0m\u001b[0;34m*\u001b[0m\u001b[0margs\u001b[0m\u001b[0;34m,\u001b[0m \u001b[0;34m**\u001b[0m\u001b[0mkwargs\u001b[0m\u001b[0;34m)\u001b[0m\u001b[0;34m\u001b[0m\u001b[0m\n\u001b[0m\u001b[1;32m    119\u001b[0m         \u001b[0;32mreturn\u001b[0m \u001b[0mwrapper\u001b[0m\u001b[0;34m\u001b[0m\u001b[0m\n\u001b[1;32m    120\u001b[0m     \u001b[0;32mreturn\u001b[0m \u001b[0m_deprecate_kwarg\u001b[0m\u001b[0;34m\u001b[0m\u001b[0m\n",
            "\u001b[0;32m~/anaconda3_501/lib/python3.6/site-packages/pandas/io/excel.py\u001b[0m in \u001b[0;36mread_excel\u001b[0;34m(io, sheet_name, header, skiprows, skip_footer, index_col, names, usecols, parse_dates, date_parser, na_values, thousands, convert_float, converters, dtype, true_values, false_values, engine, squeeze, **kwds)\u001b[0m\n\u001b[1;32m    228\u001b[0m \u001b[0;34m\u001b[0m\u001b[0m\n\u001b[1;32m    229\u001b[0m     \u001b[0;32mif\u001b[0m \u001b[0;32mnot\u001b[0m \u001b[0misinstance\u001b[0m\u001b[0;34m(\u001b[0m\u001b[0mio\u001b[0m\u001b[0;34m,\u001b[0m \u001b[0mExcelFile\u001b[0m\u001b[0;34m)\u001b[0m\u001b[0;34m:\u001b[0m\u001b[0;34m\u001b[0m\u001b[0m\n\u001b[0;32m--> 230\u001b[0;31m         \u001b[0mio\u001b[0m \u001b[0;34m=\u001b[0m \u001b[0mExcelFile\u001b[0m\u001b[0;34m(\u001b[0m\u001b[0mio\u001b[0m\u001b[0;34m,\u001b[0m \u001b[0mengine\u001b[0m\u001b[0;34m=\u001b[0m\u001b[0mengine\u001b[0m\u001b[0;34m)\u001b[0m\u001b[0;34m\u001b[0m\u001b[0m\n\u001b[0m\u001b[1;32m    231\u001b[0m \u001b[0;34m\u001b[0m\u001b[0m\n\u001b[1;32m    232\u001b[0m     return io._parse_excel(\n",
            "\u001b[0;32m~/anaconda3_501/lib/python3.6/site-packages/pandas/io/excel.py\u001b[0m in \u001b[0;36m__init__\u001b[0;34m(self, io, **kwds)\u001b[0m\n\u001b[1;32m    292\u001b[0m             \u001b[0mself\u001b[0m\u001b[0;34m.\u001b[0m\u001b[0mbook\u001b[0m \u001b[0;34m=\u001b[0m \u001b[0mxlrd\u001b[0m\u001b[0;34m.\u001b[0m\u001b[0mopen_workbook\u001b[0m\u001b[0;34m(\u001b[0m\u001b[0mfile_contents\u001b[0m\u001b[0;34m=\u001b[0m\u001b[0mdata\u001b[0m\u001b[0;34m)\u001b[0m\u001b[0;34m\u001b[0m\u001b[0m\n\u001b[1;32m    293\u001b[0m         \u001b[0;32melif\u001b[0m \u001b[0misinstance\u001b[0m\u001b[0;34m(\u001b[0m\u001b[0mself\u001b[0m\u001b[0;34m.\u001b[0m\u001b[0m_io\u001b[0m\u001b[0;34m,\u001b[0m \u001b[0mcompat\u001b[0m\u001b[0;34m.\u001b[0m\u001b[0mstring_types\u001b[0m\u001b[0;34m)\u001b[0m\u001b[0;34m:\u001b[0m\u001b[0;34m\u001b[0m\u001b[0m\n\u001b[0;32m--> 294\u001b[0;31m             \u001b[0mself\u001b[0m\u001b[0;34m.\u001b[0m\u001b[0mbook\u001b[0m \u001b[0;34m=\u001b[0m \u001b[0mxlrd\u001b[0m\u001b[0;34m.\u001b[0m\u001b[0mopen_workbook\u001b[0m\u001b[0;34m(\u001b[0m\u001b[0mself\u001b[0m\u001b[0;34m.\u001b[0m\u001b[0m_io\u001b[0m\u001b[0;34m)\u001b[0m\u001b[0;34m\u001b[0m\u001b[0m\n\u001b[0m\u001b[1;32m    295\u001b[0m         \u001b[0;32melse\u001b[0m\u001b[0;34m:\u001b[0m\u001b[0;34m\u001b[0m\u001b[0m\n\u001b[1;32m    296\u001b[0m             raise ValueError('Must explicitly set engine if not passing in'\n",
            "\u001b[0;32m~/anaconda3_501/lib/python3.6/site-packages/xlrd/__init__.py\u001b[0m in \u001b[0;36mopen_workbook\u001b[0;34m(filename, logfile, verbosity, use_mmap, file_contents, encoding_override, formatting_info, on_demand, ragged_rows)\u001b[0m\n\u001b[1;32m    114\u001b[0m         \u001b[0mpeek\u001b[0m \u001b[0;34m=\u001b[0m \u001b[0mfile_contents\u001b[0m\u001b[0;34m[\u001b[0m\u001b[0;34m:\u001b[0m\u001b[0mpeeksz\u001b[0m\u001b[0;34m]\u001b[0m\u001b[0;34m\u001b[0m\u001b[0m\n\u001b[1;32m    115\u001b[0m     \u001b[0;32melse\u001b[0m\u001b[0;34m:\u001b[0m\u001b[0;34m\u001b[0m\u001b[0m\n\u001b[0;32m--> 116\u001b[0;31m         \u001b[0;32mwith\u001b[0m \u001b[0mopen\u001b[0m\u001b[0;34m(\u001b[0m\u001b[0mfilename\u001b[0m\u001b[0;34m,\u001b[0m \u001b[0;34m\"rb\"\u001b[0m\u001b[0;34m)\u001b[0m \u001b[0;32mas\u001b[0m \u001b[0mf\u001b[0m\u001b[0;34m:\u001b[0m\u001b[0;34m\u001b[0m\u001b[0m\n\u001b[0m\u001b[1;32m    117\u001b[0m             \u001b[0mpeek\u001b[0m \u001b[0;34m=\u001b[0m \u001b[0mf\u001b[0m\u001b[0;34m.\u001b[0m\u001b[0mread\u001b[0m\u001b[0;34m(\u001b[0m\u001b[0mpeeksz\u001b[0m\u001b[0;34m)\u001b[0m\u001b[0;34m\u001b[0m\u001b[0m\n\u001b[1;32m    118\u001b[0m     \u001b[0;32mif\u001b[0m \u001b[0mpeek\u001b[0m \u001b[0;34m==\u001b[0m \u001b[0;34mb\"PK\\x03\\x04\"\u001b[0m\u001b[0;34m:\u001b[0m \u001b[0;31m# a ZIP file\u001b[0m\u001b[0;34m\u001b[0m\u001b[0m\n",
            "\u001b[0;31mFileNotFoundError\u001b[0m: [Errno 2] No such file or directory: 'TF_SOC_POP_STRUCT_2011.xlsx'"
          ]
        }
      ]
    },
    {
      "metadata": {
        "trusted": true
      },
      "cell_type": "code",
      "source": "file_names = ['TF_SOC_POP_STRUCT_' + s + '.csv.gz' for s in ['2011', '2012', '2013', '2014', '2015']]\n# Read the files sequentially\nfor index, value in enumerate(file_names):\n    pop_struct = pd.read_csv(value, sep = ';', dtype = {'CD_MUNTY_REFNIS': str}, compression = 'gzip')\n    # Select only the women of reproductive age\n    pop_struct_temp = pop_struct[(pop_struct.CD_SEX == 'F') & (pop_struct.CD_AGE.between(15, 49))]\n    #pop_struct_temp = pop_struct_temp[['CD_MUNTY_REFNIS', 'MS_POPULATION']].groupby('CD_MUNTY_REFNIS').agg({'MS_POPULATION': np.sum}).reset_index()\n    # Sum up the data per municipality and merge it into the main data frame\n    pop_struct_temp = pop_struct_temp[['CD_MUNTY_REFNIS', 'MS_POPULATION']].groupby('CD_MUNTY_REFNIS').agg('sum').reset_index()\n    pop_struct_temp.rename(columns = {'CD_MUNTY_REFNIS': 'REFNIS', 'MS_POPULATION': 'Total_Women_15_49_' + str(2011 + index)},\n                           inplace = True)\n    #pop_struct_temp['Total_Women_15_49_' + str(2011 + index)] = pop_struct_temp['Total_Women_15_49_' + str(2011 + index)].astype(np.int32)\n    pop_data = pop_data.merge(pop_struct_temp, on = 'REFNIS', copy = False)\n    \n    #pop_struct_temp = pop_struct[(pop_struct.CD_SEX == 'F') & (pop_struct.CD_CIV_STS == 20) & (pop_struct.CD_AGE.between(15, 49))]\n    #pop_struct_temp = pop_struct_temp[['CD_MUNTY_REFNIS', 'MS_POPULATION']].groupby('CD_MUNTY_REFNIS').agg('sum').reset_index()\n    #pop_struct_temp.rename(columns = {'CD_MUNTY_REFNIS': 'REFNIS', 'MS_POPULATION': 'Total_Married_Women_15_49_' + str(2011 + index)},\n    #                       inplace = True)\n    #pop_struct_temp['Total_Married_Women_15_49_' + str(2011 + index)] = pop_struct_temp['Total_Married_Women_15_49_' + str(2011 + index)].astype(np.int32)\n    #pop_data = pop_data.merge(pop_struct_temp, on = 'REFNIS', copy = False)",
      "execution_count": 31,
      "outputs": []
    },
    {
      "metadata": {
        "trusted": true
      },
      "cell_type": "code",
      "source": "# Create a new column for the average number of 15 to 49 women\npop_data['Total_Women_15_49'] = 0\n# Create the list of columns to average\ncols_to_add = [col for col in pop_data.columns if 'Total_Women_15_49_' in col]\n# Sum up the yearly data\nfor col in cols_to_add:\n    pop_data.Total_Women_15_49 += pop_data[col]\n# Divide by the number of columns\npop_data.Total_Women_15_49 /= len(cols_to_add)\n# Drop the yearly data, as it is no longer needed\nfor col in cols_to_add:\n    pop_data.drop(col, axis = 1, inplace = True)\n# Round the average data\npop_data.Total_Women_15_49 = pop_data.Total_Women_15_49.astype(np.int64)",
      "execution_count": 32,
      "outputs": []
    },
    {
      "metadata": {
        "trusted": true
      },
      "cell_type": "code",
      "source": "pop_data['Total_Women_15_49_Log'] = np.log(pop_data.Total_Women_15_49)\nfig, axes = plt.subplots(nrows = 1, ncols = 2, figsize = (14, 4))\n\nfor xcol, ax in zip(['Total_Women_15_49', 'Total_Women_15_49_Log'], axes.reshape(2, )):\n    pop_data.hist(column = xcol, bins = 30, ax = ax)\n\npop_data.drop('Total_Women_15_49_Log', axis = 1, inplace = True)",
      "execution_count": 33,
      "outputs": [
        {
          "output_type": "display_data",
          "data": {
            "image/png": "[encoded data removed]",
            "text/plain": "<Figure size 1008x288 with 2 Axes>"
          },
          "metadata": {
            "needs_background": "light"
          }
        }
      ]
    },
    {
      "metadata": {},
      "cell_type": "markdown",
      "source": "The data looks similar to the population data"
    },
    {
      "metadata": {
        "trusted": true
      },
      "cell_type": "code",
      "source": "# Compute the percentage of women of reproductive age\npop_data['Perc_Women_15_49'] = pop_data.Total_Women_15_49 / pop_data.Total_Population * 100\npop_data['Perc_Women_15_49'].describe()",
      "execution_count": 34,
      "outputs": [
        {
          "output_type": "execute_result",
          "execution_count": 34,
          "data": {
            "text/plain": "count    589.000000\nmean      22.257159\nstd        1.267584\nmin       15.295763\n25%       21.667140\n50%       22.237407\n75%       22.794553\nmax       30.542561\nName: Perc_Women_15_49, dtype: float64"
          },
          "metadata": {}
        }
      ]
    },
    {
      "metadata": {},
      "cell_type": "markdown",
      "source": "There are indeed significant differences among municipalities, which might explain the birth rate differences to some extent"
    },
    {
      "metadata": {
        "trusted": true
      },
      "cell_type": "code",
      "source": "np.corrcoef(pop_data.Total_Women_15_49, pop_data.Total_Births)[0, 1]",
      "execution_count": 35,
      "outputs": [
        {
          "output_type": "execute_result",
          "execution_count": 35,
          "data": {
            "text/plain": "0.987830948266822"
          },
          "metadata": {}
        }
      ]
    },
    {
      "metadata": {
        "trusted": true
      },
      "cell_type": "code",
      "source": "pop_data.plot.scatter(x = 'Total_Women_15_49', y = 'Total_Births', figsize = (6, 4));",
      "execution_count": 36,
      "outputs": [
        {
          "output_type": "display_data",
          "data": {
            "image/png": "[encoded data removed]",
            "text/plain": "<Figure size 432x288 with 1 Axes>"
          },
          "metadata": {
            "needs_background": "light"
          }
        }
      ]
    },
    {
      "metadata": {},
      "cell_type": "markdown",
      "source": "The correlation is slightly higher than the one between population and number of births. There seems to be less scattering among municipalities with similar female populations, however, significant differences are still present<br>\nLet us compute the birth rate per 1000 women"
    },
    {
      "metadata": {
        "trusted": true
      },
      "cell_type": "code",
      "source": "pop_data['Birth_Rate_Women_15_49'] = pop_data.Total_Births / pop_data.Total_Women_15_49 * 1000",
      "execution_count": 37,
      "outputs": []
    },
    {
      "metadata": {
        "scrolled": true,
        "trusted": true
      },
      "cell_type": "code",
      "source": "pop_data['Birth_Rate_Women_15_49'].describe()",
      "execution_count": 38,
      "outputs": [
        {
          "output_type": "execute_result",
          "execution_count": 38,
          "data": {
            "text/plain": "count    589.000000\nmean      46.284306\nstd        6.508953\nmin       30.350877\n25%       42.380137\n50%       45.440714\n75%       49.207673\nmax       81.353555\nName: Birth_Rate_Women_15_49, dtype: float64"
          },
          "metadata": {}
        }
      ]
    },
    {
      "metadata": {},
      "cell_type": "markdown",
      "source": "The ratio between the minimum and maximum birth rate is about 2.7, less than the 4 we had before when we considered the total population. This is still a considerable difference<br>\nAnother idea is that, while the number of women of reproductive age is definitely important, this includes the bachelor, divorced and widowed women, which are less likely to have children. Let us take the marital status into account"
    },
    {
      "metadata": {
        "trusted": false
      },
      "cell_type": "code",
      "source": "# Read the files with the population structure by municipality, sex, age and marital status\nfor index, value in enumerate(file_names):\n    pop_struct = pd.read_excel('./data/' + value, usecols = 'A, M, Q, T, U', dtype = {'CD_MUNTY_REFNIS': str})\n    # Select only the married women of reproductive age\n    pop_struct_temp = pop_struct[(pop_struct.CD_SEX == 'F') & (pop_struct.CD_CIV_STS == 20) & (pop_struct.CD_AGE.between(15, 49))]\n    # Sum up the data per municipality and merge it into the main data frame\n    pop_struct_temp = pop_struct_temp[['CD_MUNTY_REFNIS', 'MS_POPULATION']].groupby('CD_MUNTY_REFNIS').agg('sum').reset_index()\n    pop_struct_temp.rename(columns = {'CD_MUNTY_REFNIS': 'REFNIS', 'MS_POPULATION': 'Total_Married_Women_15_49_' + str(2011 + index)},\n                           inplace = True)\n    pop_data = pop_data.merge(pop_struct_temp, on = 'REFNIS', copy = False)",
      "execution_count": 36,
      "outputs": [
        {
          "ename": "FileNotFoundError",
          "evalue": "[Errno 2] No such file or directory: './data/TF_SOC_POP_STRUCT_2011.csv.gz'",
          "output_type": "error",
          "traceback": [
            "\u001b[0;31m---------------------------------------------------------------------------\u001b[0m",
            "\u001b[0;31mFileNotFoundError\u001b[0m                         Traceback (most recent call last)",
            "\u001b[0;32m<ipython-input-36-0d7bded77f63>\u001b[0m in \u001b[0;36m<module>\u001b[0;34m\u001b[0m\n\u001b[1;32m      1\u001b[0m \u001b[0;31m# Read the files with the population structure by municipality, sex, age and marital status\u001b[0m\u001b[0;34m\u001b[0m\u001b[0;34m\u001b[0m\u001b[0m\n\u001b[1;32m      2\u001b[0m \u001b[0;32mfor\u001b[0m \u001b[0mindex\u001b[0m\u001b[0;34m,\u001b[0m \u001b[0mvalue\u001b[0m \u001b[0;32min\u001b[0m \u001b[0menumerate\u001b[0m\u001b[0;34m(\u001b[0m\u001b[0mfile_names\u001b[0m\u001b[0;34m)\u001b[0m\u001b[0;34m:\u001b[0m\u001b[0;34m\u001b[0m\u001b[0m\n\u001b[0;32m----> 3\u001b[0;31m     \u001b[0mpop_struct\u001b[0m \u001b[0;34m=\u001b[0m \u001b[0mpd\u001b[0m\u001b[0;34m.\u001b[0m\u001b[0mread_excel\u001b[0m\u001b[0;34m(\u001b[0m\u001b[0;34m'./data/'\u001b[0m \u001b[0;34m+\u001b[0m \u001b[0mvalue\u001b[0m\u001b[0;34m,\u001b[0m \u001b[0musecols\u001b[0m \u001b[0;34m=\u001b[0m \u001b[0;34m'A, M, Q, T, U'\u001b[0m\u001b[0;34m,\u001b[0m \u001b[0mdtype\u001b[0m \u001b[0;34m=\u001b[0m \u001b[0;34m{\u001b[0m\u001b[0;34m'CD_MUNTY_REFNIS'\u001b[0m\u001b[0;34m:\u001b[0m \u001b[0mstr\u001b[0m\u001b[0;34m}\u001b[0m\u001b[0;34m)\u001b[0m\u001b[0;34m\u001b[0m\u001b[0m\n\u001b[0m\u001b[1;32m      4\u001b[0m     \u001b[0;31m# Select only the married women of reproductive age\u001b[0m\u001b[0;34m\u001b[0m\u001b[0;34m\u001b[0m\u001b[0m\n\u001b[1;32m      5\u001b[0m     \u001b[0mpop_struct_temp\u001b[0m \u001b[0;34m=\u001b[0m \u001b[0mpop_struct\u001b[0m\u001b[0;34m[\u001b[0m\u001b[0;34m(\u001b[0m\u001b[0mpop_struct\u001b[0m\u001b[0;34m.\u001b[0m\u001b[0mCD_SEX\u001b[0m \u001b[0;34m==\u001b[0m \u001b[0;34m'F'\u001b[0m\u001b[0;34m)\u001b[0m \u001b[0;34m&\u001b[0m \u001b[0;34m(\u001b[0m\u001b[0mpop_struct\u001b[0m\u001b[0;34m.\u001b[0m\u001b[0mCD_CIV_STS\u001b[0m \u001b[0;34m==\u001b[0m \u001b[0;36m20\u001b[0m\u001b[0;34m)\u001b[0m \u001b[0;34m&\u001b[0m \u001b[0;34m(\u001b[0m\u001b[0mpop_struct\u001b[0m\u001b[0;34m.\u001b[0m\u001b[0mCD_AGE\u001b[0m\u001b[0;34m.\u001b[0m\u001b[0mbetween\u001b[0m\u001b[0;34m(\u001b[0m\u001b[0;36m15\u001b[0m\u001b[0;34m,\u001b[0m \u001b[0;36m49\u001b[0m\u001b[0;34m)\u001b[0m\u001b[0;34m)\u001b[0m\u001b[0;34m]\u001b[0m\u001b[0;34m\u001b[0m\u001b[0m\n",
            "\u001b[0;32m~/anaconda3_501/lib/python3.6/site-packages/pandas/util/_decorators.py\u001b[0m in \u001b[0;36mwrapper\u001b[0;34m(*args, **kwargs)\u001b[0m\n\u001b[1;32m    116\u001b[0m                 \u001b[0;32melse\u001b[0m\u001b[0;34m:\u001b[0m\u001b[0;34m\u001b[0m\u001b[0m\n\u001b[1;32m    117\u001b[0m                     \u001b[0mkwargs\u001b[0m\u001b[0;34m[\u001b[0m\u001b[0mnew_arg_name\u001b[0m\u001b[0;34m]\u001b[0m \u001b[0;34m=\u001b[0m \u001b[0mnew_arg_value\u001b[0m\u001b[0;34m\u001b[0m\u001b[0m\n\u001b[0;32m--> 118\u001b[0;31m             \u001b[0;32mreturn\u001b[0m \u001b[0mfunc\u001b[0m\u001b[0;34m(\u001b[0m\u001b[0;34m*\u001b[0m\u001b[0margs\u001b[0m\u001b[0;34m,\u001b[0m \u001b[0;34m**\u001b[0m\u001b[0mkwargs\u001b[0m\u001b[0;34m)\u001b[0m\u001b[0;34m\u001b[0m\u001b[0m\n\u001b[0m\u001b[1;32m    119\u001b[0m         \u001b[0;32mreturn\u001b[0m \u001b[0mwrapper\u001b[0m\u001b[0;34m\u001b[0m\u001b[0m\n\u001b[1;32m    120\u001b[0m     \u001b[0;32mreturn\u001b[0m \u001b[0m_deprecate_kwarg\u001b[0m\u001b[0;34m\u001b[0m\u001b[0m\n",
            "\u001b[0;32m~/anaconda3_501/lib/python3.6/site-packages/pandas/io/excel.py\u001b[0m in \u001b[0;36mread_excel\u001b[0;34m(io, sheet_name, header, skiprows, skip_footer, index_col, names, usecols, parse_dates, date_parser, na_values, thousands, convert_float, converters, dtype, true_values, false_values, engine, squeeze, **kwds)\u001b[0m\n\u001b[1;32m    228\u001b[0m \u001b[0;34m\u001b[0m\u001b[0m\n\u001b[1;32m    229\u001b[0m     \u001b[0;32mif\u001b[0m \u001b[0;32mnot\u001b[0m \u001b[0misinstance\u001b[0m\u001b[0;34m(\u001b[0m\u001b[0mio\u001b[0m\u001b[0;34m,\u001b[0m \u001b[0mExcelFile\u001b[0m\u001b[0;34m)\u001b[0m\u001b[0;34m:\u001b[0m\u001b[0;34m\u001b[0m\u001b[0m\n\u001b[0;32m--> 230\u001b[0;31m         \u001b[0mio\u001b[0m \u001b[0;34m=\u001b[0m \u001b[0mExcelFile\u001b[0m\u001b[0;34m(\u001b[0m\u001b[0mio\u001b[0m\u001b[0;34m,\u001b[0m \u001b[0mengine\u001b[0m\u001b[0;34m=\u001b[0m\u001b[0mengine\u001b[0m\u001b[0;34m)\u001b[0m\u001b[0;34m\u001b[0m\u001b[0m\n\u001b[0m\u001b[1;32m    231\u001b[0m \u001b[0;34m\u001b[0m\u001b[0m\n\u001b[1;32m    232\u001b[0m     return io._parse_excel(\n",
            "\u001b[0;32m~/anaconda3_501/lib/python3.6/site-packages/pandas/io/excel.py\u001b[0m in \u001b[0;36m__init__\u001b[0;34m(self, io, **kwds)\u001b[0m\n\u001b[1;32m    292\u001b[0m             \u001b[0mself\u001b[0m\u001b[0;34m.\u001b[0m\u001b[0mbook\u001b[0m \u001b[0;34m=\u001b[0m \u001b[0mxlrd\u001b[0m\u001b[0;34m.\u001b[0m\u001b[0mopen_workbook\u001b[0m\u001b[0;34m(\u001b[0m\u001b[0mfile_contents\u001b[0m\u001b[0;34m=\u001b[0m\u001b[0mdata\u001b[0m\u001b[0;34m)\u001b[0m\u001b[0;34m\u001b[0m\u001b[0m\n\u001b[1;32m    293\u001b[0m         \u001b[0;32melif\u001b[0m \u001b[0misinstance\u001b[0m\u001b[0;34m(\u001b[0m\u001b[0mself\u001b[0m\u001b[0;34m.\u001b[0m\u001b[0m_io\u001b[0m\u001b[0;34m,\u001b[0m \u001b[0mcompat\u001b[0m\u001b[0;34m.\u001b[0m\u001b[0mstring_types\u001b[0m\u001b[0;34m)\u001b[0m\u001b[0;34m:\u001b[0m\u001b[0;34m\u001b[0m\u001b[0m\n\u001b[0;32m--> 294\u001b[0;31m             \u001b[0mself\u001b[0m\u001b[0;34m.\u001b[0m\u001b[0mbook\u001b[0m \u001b[0;34m=\u001b[0m \u001b[0mxlrd\u001b[0m\u001b[0;34m.\u001b[0m\u001b[0mopen_workbook\u001b[0m\u001b[0;34m(\u001b[0m\u001b[0mself\u001b[0m\u001b[0;34m.\u001b[0m\u001b[0m_io\u001b[0m\u001b[0;34m)\u001b[0m\u001b[0;34m\u001b[0m\u001b[0m\n\u001b[0m\u001b[1;32m    295\u001b[0m         \u001b[0;32melse\u001b[0m\u001b[0;34m:\u001b[0m\u001b[0;34m\u001b[0m\u001b[0m\n\u001b[1;32m    296\u001b[0m             raise ValueError('Must explicitly set engine if not passing in'\n",
            "\u001b[0;32m~/anaconda3_501/lib/python3.6/site-packages/xlrd/__init__.py\u001b[0m in \u001b[0;36mopen_workbook\u001b[0;34m(filename, logfile, verbosity, use_mmap, file_contents, encoding_override, formatting_info, on_demand, ragged_rows)\u001b[0m\n\u001b[1;32m    114\u001b[0m         \u001b[0mpeek\u001b[0m \u001b[0;34m=\u001b[0m \u001b[0mfile_contents\u001b[0m\u001b[0;34m[\u001b[0m\u001b[0;34m:\u001b[0m\u001b[0mpeeksz\u001b[0m\u001b[0;34m]\u001b[0m\u001b[0;34m\u001b[0m\u001b[0m\n\u001b[1;32m    115\u001b[0m     \u001b[0;32melse\u001b[0m\u001b[0;34m:\u001b[0m\u001b[0;34m\u001b[0m\u001b[0m\n\u001b[0;32m--> 116\u001b[0;31m         \u001b[0;32mwith\u001b[0m \u001b[0mopen\u001b[0m\u001b[0;34m(\u001b[0m\u001b[0mfilename\u001b[0m\u001b[0;34m,\u001b[0m \u001b[0;34m\"rb\"\u001b[0m\u001b[0;34m)\u001b[0m \u001b[0;32mas\u001b[0m \u001b[0mf\u001b[0m\u001b[0;34m:\u001b[0m\u001b[0;34m\u001b[0m\u001b[0m\n\u001b[0m\u001b[1;32m    117\u001b[0m             \u001b[0mpeek\u001b[0m \u001b[0;34m=\u001b[0m \u001b[0mf\u001b[0m\u001b[0;34m.\u001b[0m\u001b[0mread\u001b[0m\u001b[0;34m(\u001b[0m\u001b[0mpeeksz\u001b[0m\u001b[0;34m)\u001b[0m\u001b[0;34m\u001b[0m\u001b[0m\n\u001b[1;32m    118\u001b[0m     \u001b[0;32mif\u001b[0m \u001b[0mpeek\u001b[0m \u001b[0;34m==\u001b[0m \u001b[0;34mb\"PK\\x03\\x04\"\u001b[0m\u001b[0;34m:\u001b[0m \u001b[0;31m# a ZIP file\u001b[0m\u001b[0;34m\u001b[0m\u001b[0m\n",
            "\u001b[0;31mFileNotFoundError\u001b[0m: [Errno 2] No such file or directory: './data/TF_SOC_POP_STRUCT_2011.csv.gz'"
          ]
        }
      ]
    },
    {
      "metadata": {
        "trusted": true
      },
      "cell_type": "code",
      "source": "file_names = ['TF_SOC_POP_STRUCT_' + s + '.csv.gz' for s in ['2011', '2012', '2013', '2014', '2015']]\n# Read the files sequentially\nfor index, value in enumerate(file_names):\n    pop_struct = pd.read_csv(value, sep = ';', dtype = {'CD_MUNTY_REFNIS': str}, compression = 'gzip')\n    # Select only the women of reproductive age\n    pop_struct_temp = pop_struct[(pop_struct.CD_SEX == 'F') & (pop_struct.CD_CIV_STS == 20) & (pop_struct.CD_AGE.between(15, 49))]\n    # Sum up the data per municipality and merge it into the main data frame\n    pop_struct_temp = pop_struct_temp[['CD_MUNTY_REFNIS', 'MS_POPULATION']].groupby('CD_MUNTY_REFNIS').agg('sum').reset_index()\n    pop_struct_temp.rename(columns = {'CD_MUNTY_REFNIS': 'REFNIS', 'MS_POPULATION': 'Total_Married_Women_15_49_' + str(2011 + index)},\n                           inplace = True)\n    pop_data = pop_data.merge(pop_struct_temp, on = 'REFNIS', copy = False)",
      "execution_count": 39,
      "outputs": []
    },
    {
      "metadata": {
        "trusted": true
      },
      "cell_type": "code",
      "source": "# Create a new column for the average number of married 15 to 49 women\npop_data['Total_Married_Women_15_49'] = 0\n# Create the list of columns to average\ncols_to_add = [col for col in pop_data.columns if 'Total_Married_Women_15_49_' in col]\n# Sum up the yearly data\nfor col in cols_to_add:\n    pop_data.Total_Married_Women_15_49 += pop_data[col]\n# Divide by the number of columns\npop_data.Total_Married_Women_15_49 /= len(cols_to_add)\n# Drop the yearly data, as it is no longer needed\nfor col in cols_to_add:\n    pop_data.drop(col, axis = 1, inplace = True)\n# Round the average data\npop_data.Total_Married_Women_15_49 = pop_data.Total_Married_Women_15_49.astype(np.int64)",
      "execution_count": 40,
      "outputs": []
    },
    {
      "metadata": {
        "trusted": true
      },
      "cell_type": "code",
      "source": "# Compute the percentage of married women of reproductive age\npop_data['Perc_Married_Women_15_49'] = pop_data.Total_Married_Women_15_49 / pop_data.Total_Population * 100\npop_data['Perc_Married_Women_15_49'].describe()",
      "execution_count": 41,
      "outputs": [
        {
          "output_type": "execute_result",
          "execution_count": 41,
          "data": {
            "text/plain": "count    589.000000\nmean       8.742318\nstd        1.113720\nmin        5.739031\n25%        7.983890\n50%        8.739903\n75%        9.530668\nmax       12.161887\nName: Perc_Married_Women_15_49, dtype: float64"
          },
          "metadata": {}
        }
      ]
    },
    {
      "metadata": {},
      "cell_type": "markdown",
      "source": "We can see one more time significant differences among municipalities"
    },
    {
      "metadata": {
        "trusted": true
      },
      "cell_type": "code",
      "source": "np.corrcoef(pop_data.Total_Married_Women_15_49, pop_data.Total_Births)[0, 1]",
      "execution_count": 42,
      "outputs": [
        {
          "output_type": "execute_result",
          "execution_count": 42,
          "data": {
            "text/plain": "0.9892141108779947"
          },
          "metadata": {}
        }
      ]
    },
    {
      "metadata": {
        "trusted": true
      },
      "cell_type": "code",
      "source": "pop_data.plot.scatter(x = 'Total_Married_Women_15_49', y = 'Total_Births', figsize = (6, 4));",
      "execution_count": 43,
      "outputs": [
        {
          "output_type": "display_data",
          "data": {
            "image/png": "[encoded data removed]",
            "text/plain": "<Figure size 432x288 with 1 Axes>"
          },
          "metadata": {
            "needs_background": "light"
          }
        }
      ]
    },
    {
      "metadata": {},
      "cell_type": "markdown",
      "source": "The correlation is slightly higher than the one between the number of women of reproductive age and number of births. There seems to be less scattering among municipalities with similar married female populations and the differences are less significant<br>\nLet us compute the birth rate per 1000 married women"
    },
    {
      "metadata": {
        "trusted": true
      },
      "cell_type": "code",
      "source": "pop_data['Birth_Rate_Married_Women_15_49'] = pop_data.Total_Births / pop_data.Total_Married_Women_15_49 * 1000",
      "execution_count": 44,
      "outputs": []
    },
    {
      "metadata": {
        "scrolled": true,
        "trusted": true
      },
      "cell_type": "code",
      "source": "pop_data['Birth_Rate_Married_Women_15_49'].describe()",
      "execution_count": 45,
      "outputs": [
        {
          "output_type": "execute_result",
          "execution_count": 45,
          "data": {
            "text/plain": "count    589.000000\nmean     119.545371\nstd       22.588971\nmin       71.038251\n25%      102.241249\n50%      115.988580\n75%      133.928571\nmax      199.018405\nName: Birth_Rate_Married_Women_15_49, dtype: float64"
          },
          "metadata": {}
        }
      ]
    },
    {
      "metadata": {},
      "cell_type": "markdown",
      "source": "The ratio between the minimum and maximum birth rate is about 2.8, slightly higher but close to the 2.7 we had before when we considered the number of women of reproductive age<br>\nOne more approach is to not only consider the number of women, married or not, but the number of couples. There might be (and definitely are in Belgium) non-married women who live in a couple and have children. Unfortunately the data available is for 2015 and later years, so we will use the 2015 data as a proxy for the average of 2011 to 2015"
    },
    {
      "metadata": {
        "trusted": true
      },
      "cell_type": "code",
      "source": "menages = pd.read_excel('./data/pop-typeHH_FR.xlsx', sheet_name = \"01012015\", skiprows = 5, usecols = 'A, F, G, H, I',\n                        dtype = {'CODE REFNIS': str})",
      "execution_count": 46,
      "outputs": []
    },
    {
      "metadata": {
        "trusted": true
      },
      "cell_type": "code",
      "source": "menages['Total_Couples'] = menages['2. Couples mariés sans enfant'] + menages['3. Couples mariés avec enfant(s)'] + \\\n    menages['4. Couples non-mariés sans enfant'] + menages['5. Couples non-mariés avec enfant(s)']",
      "execution_count": 47,
      "outputs": []
    },
    {
      "metadata": {
        "trusted": true
      },
      "cell_type": "code",
      "source": "menages.rename(columns = {'CODE REFNIS': 'REFNIS'}, inplace = True)",
      "execution_count": 48,
      "outputs": []
    },
    {
      "metadata": {
        "trusted": true
      },
      "cell_type": "code",
      "source": "pop_data = pop_data.merge(menages[['REFNIS', 'Total_Couples']], on = 'REFNIS', copy = False)",
      "execution_count": 49,
      "outputs": []
    },
    {
      "metadata": {
        "trusted": true
      },
      "cell_type": "code",
      "source": "# Compute the number of couples per 100 inhabitants (a sort of a percentage)\npop_data['Perc_Couples'] = pop_data.Total_Couples / pop_data.Total_Population * 100\npop_data['Perc_Couples'].describe()",
      "execution_count": 50,
      "outputs": [
        {
          "output_type": "execute_result",
          "execution_count": 50,
          "data": {
            "text/plain": "count    589.000000\nmean      24.764921\nstd        2.274739\nmin       15.871039\n25%       23.401309\n50%       24.998743\n75%       26.693360\nmax       28.521397\nName: Perc_Couples, dtype: float64"
          },
          "metadata": {}
        }
      ]
    },
    {
      "metadata": {
        "trusted": true
      },
      "cell_type": "code",
      "source": "np.corrcoef(pop_data.Total_Couples, pop_data.Total_Births)[0, 1]",
      "execution_count": 51,
      "outputs": [
        {
          "output_type": "execute_result",
          "execution_count": 51,
          "data": {
            "text/plain": "0.9612030518590166"
          },
          "metadata": {}
        }
      ]
    },
    {
      "metadata": {
        "trusted": true
      },
      "cell_type": "code",
      "source": "pop_data.plot.scatter(x = 'Total_Couples', y = 'Total_Births', figsize = (6, 4));",
      "execution_count": 52,
      "outputs": [
        {
          "output_type": "display_data",
          "data": {
            "image/png": "[encoded data removed]",
            "text/plain": "<Figure size 432x288 with 1 Axes>"
          },
          "metadata": {
            "needs_background": "light"
          }
        }
      ]
    },
    {
      "metadata": {},
      "cell_type": "markdown",
      "source": "The correlation is higher than what we had so far and there seems to be more scattering among municipalities with similar number of couples"
    },
    {
      "metadata": {
        "trusted": true
      },
      "cell_type": "code",
      "source": "pop_data['Birth_Rate_Couples'] = pop_data.Total_Births / pop_data.Total_Couples * 1000",
      "execution_count": 53,
      "outputs": []
    },
    {
      "metadata": {
        "trusted": true
      },
      "cell_type": "code",
      "source": "pop_data['Birth_Rate_Couples'].describe()",
      "execution_count": 54,
      "outputs": [
        {
          "output_type": "execute_result",
          "execution_count": 54,
          "data": {
            "text/plain": "count    589.000000\nmean      42.541344\nstd       11.501118\nmin       17.784964\n25%       35.812672\n50%       40.373991\n75%       46.608214\nmax      113.111727\nName: Birth_Rate_Couples, dtype: float64"
          },
          "metadata": {}
        }
      ]
    },
    {
      "metadata": {},
      "cell_type": "markdown",
      "source": "The ratio between the minimum and maximum birth rate is higher than 6, so it seems the number of couples is a worse indicator than what we had so far. This makes sense to a certain extent, because in the municipalities with more children, the number of couples/families will be lower (since the families are larger)<br>\nWe can also consider the number of married couples, but we are likely to face the same situation as the one explained in the previous sentence"
    },
    {
      "metadata": {
        "trusted": true
      },
      "cell_type": "code",
      "source": "menages['Total_Married_Couples'] = menages['2. Couples mariés sans enfant'] + menages['3. Couples mariés avec enfant(s)']",
      "execution_count": 55,
      "outputs": []
    },
    {
      "metadata": {
        "trusted": true
      },
      "cell_type": "code",
      "source": "pop_data = pop_data.merge(menages[['REFNIS', 'Total_Married_Couples']], on = 'REFNIS', copy = False)",
      "execution_count": 56,
      "outputs": []
    },
    {
      "metadata": {
        "trusted": true
      },
      "cell_type": "code",
      "source": "# Compute the number of married couples per 100 inhabitants (a sort of a percentage)\npop_data['Perc_Married_Couples'] = pop_data.Total_Married_Couples / pop_data.Total_Population * 100\npop_data['Perc_Married_Couples'].describe()",
      "execution_count": 57,
      "outputs": [
        {
          "output_type": "execute_result",
          "execution_count": 57,
          "data": {
            "text/plain": "count    589.000000\nmean      19.036762\nstd        2.490240\nmin       10.451773\n25%       17.080336\n50%       19.150785\n75%       21.213389\nmax       23.778369\nName: Perc_Married_Couples, dtype: float64"
          },
          "metadata": {}
        }
      ]
    },
    {
      "metadata": {
        "trusted": true
      },
      "cell_type": "code",
      "source": "np.corrcoef(pop_data.Total_Married_Couples, pop_data.Total_Births)[0, 1]",
      "execution_count": 58,
      "outputs": [
        {
          "output_type": "execute_result",
          "execution_count": 58,
          "data": {
            "text/plain": "0.9568450984124356"
          },
          "metadata": {}
        }
      ]
    },
    {
      "metadata": {
        "trusted": true
      },
      "cell_type": "code",
      "source": "pop_data.plot.scatter(x = 'Total_Married_Couples', y = 'Total_Births', figsize = (6, 4));",
      "execution_count": 59,
      "outputs": [
        {
          "output_type": "display_data",
          "data": {
            "image/png": "[encoded data removed]",
            "text/plain": "<Figure size 432x288 with 1 Axes>"
          },
          "metadata": {
            "needs_background": "light"
          }
        }
      ]
    },
    {
      "metadata": {},
      "cell_type": "markdown",
      "source": "The correlation and scatter plot are very similar to the previous ones (for all couples)"
    },
    {
      "metadata": {
        "trusted": true
      },
      "cell_type": "code",
      "source": "pop_data['Birth_Rate_Married_Couples'] = pop_data.Total_Births / pop_data.Total_Married_Couples * 1000",
      "execution_count": 60,
      "outputs": []
    },
    {
      "metadata": {
        "trusted": true
      },
      "cell_type": "code",
      "source": "pop_data['Birth_Rate_Married_Couples'].describe()",
      "execution_count": 61,
      "outputs": [
        {
          "output_type": "execute_result",
          "execution_count": 61,
          "data": {
            "text/plain": "count    589.000000\nmean      55.999705\nstd       16.567831\nmin       20.872865\n25%       45.193098\n50%       52.605459\n75%       63.385269\nmax      155.662188\nName: Birth_Rate_Married_Couples, dtype: float64"
          },
          "metadata": {}
        }
      ]
    },
    {
      "metadata": {},
      "cell_type": "markdown",
      "source": "The ratio between the minimum and maximum birth rate is higher than 7, so no progress there"
    },
    {
      "metadata": {},
      "cell_type": "markdown",
      "source": "## Wrapping up"
    },
    {
      "metadata": {},
      "cell_type": "markdown",
      "source": "It seems that we cannot fully explain the birth rate differences between municipalities based on population structure alone. The best explanatory variable we found is the number of women of reproductive age, but there are still large differences that it does not account for<br>\nIt is normal to have differences which cannot be explained by only considering the population statistics. As outlined for instance by this article<br><br>\nhttps://journals.openedition.org/eps/4550<br><br>\nthere are groups of municipalities with distinct ranges of birth rate due to a multitude of factors. A deeper, multi-variate analysis is needed in order to understand the reasons for these differences"
    }
  ],
  "metadata": {
    "kernelspec": {
      "name": "python36",
      "display_name": "Python 3.6",
      "language": "python"
    },
    "language_info": {
      "mimetype": "text/x-python",
      "nbconvert_exporter": "python",
      "name": "python",
      "pygments_lexer": "ipython3",
      "version": "3.6.6",
      "file_extension": ".py",
      "codemirror_mode": {
        "version": 3,
        "name": "ipython"
      }
    }
  },
  "nbformat": 4,
  "nbformat_minor": 2
}